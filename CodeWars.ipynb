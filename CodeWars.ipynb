{
 "cells": [
  {
   "cell_type": "code",
   "execution_count": 6,
   "id": "100e99f6",
   "metadata": {},
   "outputs": [
    {
     "name": "stdout",
     "output_type": "stream",
     "text": [
      "3.0\n"
     ]
    }
   ],
   "source": [
    "ar = [1,2,3,4,5]\n",
    "print (sum(ar)/len(ar))\n"
   ]
  },
  {
   "cell_type": "code",
   "execution_count": 10,
   "id": "003f9266",
   "metadata": {},
   "outputs": [
    {
     "name": "stdout",
     "output_type": "stream",
     "text": [
      "False\n"
     ]
    }
   ],
   "source": [
    "my = 2\n",
    "arif = sum(ar)/len(ar)\n",
    "res = bool\n",
    "if my >= arif:\n",
    "    res=True\n",
    "else:\n",
    "    res=False\n",
    "print (res)"
   ]
  },
  {
   "cell_type": "code",
   "execution_count": 14,
   "id": "d2ed7039",
   "metadata": {},
   "outputs": [
    {
     "name": "stdout",
     "output_type": "stream",
     "text": [
      "['i', 'love', 'you']\n"
     ]
    }
   ],
   "source": [
    "list=string.split(\" \")\n",
    "print (list)"
   ]
  },
  {
   "cell_type": "code",
   "execution_count": 22,
   "id": "80d87fec",
   "metadata": {},
   "outputs": [
    {
     "name": "stdout",
     "output_type": "stream",
     "text": [
      "<function <lambda> at 0x10819ae80>\n"
     ]
    }
   ],
   "source": [
    "a=[2, 4, 5]\n",
    "result=(lambda x: a*2)\n",
    "print (result)"
   ]
  },
  {
   "cell_type": "code",
   "execution_count": 1,
   "id": "9d853b09",
   "metadata": {},
   "outputs": [
    {
     "name": "stdout",
     "output_type": "stream",
     "text": [
      "['1:0', '2:0', '3:0', '4:0', '2:1', '3:1', '4:1', '3:2', '4:2', '4:3']\n"
     ]
    }
   ],
   "source": [
    "point=(['1:0','2:0','3:0','4:0','2:1','3:1','4:1','3:2','4:2','4:3'])\n",
    "print(point)"
   ]
  },
  {
   "cell_type": "code",
   "execution_count": 5,
   "id": "0c13ea16",
   "metadata": {},
   "outputs": [
    {
     "name": "stdout",
     "output_type": "stream",
     "text": [
      "3:0\n"
     ]
    }
   ],
   "source": [
    "match=point[2]\n",
    "print ()"
   ]
  },
  {
   "cell_type": "code",
   "execution_count": 7,
   "id": "ee1fd235",
   "metadata": {},
   "outputs": [
    {
     "name": "stdout",
     "output_type": "stream",
     "text": [
      "hello\n"
     ]
    }
   ],
   "source": [
    "def get_prefix(s):\n",
    "    index = s.find(',')\n",
    "    if index == -1:\n",
    "        return s\n",
    "    else:\n",
    "        return s[:index]\n",
    "\n",
    "sample_string = 'hello,world'\n",
    "prefix = get_prefix(sample_string)\n",
    "print(prefix)\n"
   ]
  },
  {
   "cell_type": "code",
   "execution_count": 25,
   "id": "0eaa852c",
   "metadata": {},
   "outputs": [
    {
     "name": "stdout",
     "output_type": "stream",
     "text": [
      "3\n"
     ]
    }
   ],
   "source": [
    "def func(str):\n",
    "    pos = str.find(\":\")\n",
    "    if pos == -1:\n",
    "        return str\n",
    "    else:\n",
    "        before = str[:pos]\n",
    "        after = str[pos+1:]\n",
    "        if before<after:\n",
    "            win=0\n",
    "        elif before>after:\n",
    "            win=3\n",
    "        else:\n",
    "            win=1\n",
    "        return win\n",
    "\n",
    "line = match\n",
    "print(func(line))"
   ]
  },
  {
   "cell_type": "code",
   "execution_count": 27,
   "id": "519af44c",
   "metadata": {},
   "outputs": [
    {
     "name": "stdout",
     "output_type": "stream",
     "text": [
      "The quick brown fox jumps over the lazy dog.\n"
     ]
    }
   ],
   "source": [
    "# Переворачиваем строку в обратную сторону\n",
    "words='The quick brown fox jumps over the lazy dog.'\n",
    "print(words)"
   ]
  },
  {
   "cell_type": "code",
   "execution_count": 28,
   "id": "9d50d79c",
   "metadata": {},
   "outputs": [
    {
     "name": "stdout",
     "output_type": "stream",
     "text": [
      ".god yzal eht revo spmuj xof nworb kciuq ehT\n"
     ]
    }
   ],
   "source": [
    "print(words[::-1])\n"
   ]
  },
  {
   "cell_type": "code",
   "execution_count": 18,
   "id": "b119fa2f",
   "metadata": {},
   "outputs": [
    {
     "name": "stdout",
     "output_type": "stream",
     "text": [
      "5.477225575051661\n"
     ]
    }
   ],
   "source": [
    "import math\n",
    "n=30\n",
    "def sqrt (x):\n",
    "    return math.sqrt(x)\n",
    "print (sqrt(n))"
   ]
  },
  {
   "cell_type": "code",
   "execution_count": 19,
   "id": "922e4f86",
   "metadata": {},
   "outputs": [
    {
     "name": "stdout",
     "output_type": "stream",
     "text": [
      "30.0\n"
     ]
    }
   ],
   "source": [
    "x=sqrt(n)\n",
    "print (x**2)\n",
    "    "
   ]
  },
  {
   "cell_type": "code",
   "execution_count": 21,
   "id": "c913cf4c",
   "metadata": {},
   "outputs": [
    {
     "name": "stdout",
     "output_type": "stream",
     "text": [
      "True\n"
     ]
    }
   ],
   "source": [
    "def lovefunc( flower1, flower2 ):\n",
    "    if flower1%2==0 or flower2%2 == 0:\n",
    "        return True\n",
    "    else:\n",
    "        return False\n",
    "\n",
    "print(lovefunc(2,2))"
   ]
  },
  {
   "cell_type": "code",
   "execution_count": 3,
   "id": "2fda4ffb",
   "metadata": {},
   "outputs": [
    {
     "name": "stdout",
     "output_type": "stream",
     "text": [
      "Jon, make a cap of tea.\n"
     ]
    }
   ],
   "source": [
    "string = \"Jon, make a cap of tea.\"\n",
    "print (string)"
   ]
  },
  {
   "cell_type": "code",
   "execution_count": 2,
   "id": "a8f06963",
   "metadata": {},
   "outputs": [
    {
     "name": "stdout",
     "output_type": "stream",
     "text": [
      "['Jon,', 'make', 'a', 'cap', 'of', 'tea']\n"
     ]
    }
   ],
   "source": [
    "split = string.split()\n",
    "print (split)"
   ]
  },
  {
   "cell_type": "code",
   "execution_count": 32,
   "id": "4769a4d4",
   "metadata": {
    "scrolled": true
   },
   "outputs": [
    {
     "name": "stdout",
     "output_type": "stream",
     "text": [
      "Jon Gold\n"
     ]
    }
   ],
   "source": [
    "# Перебрать все слова в предложени и сделать их заглавными\n",
    "string = \"jon gold\"\n",
    "split = string.split()\n",
    "for i in split:\n",
    "    split[split.index(i)]=i.capitalize()\n",
    "result=' '.join(split)\n",
    "print (result)\n",
    "     "
   ]
  },
  {
   "cell_type": "code",
   "execution_count": 22,
   "id": "ecd82720",
   "metadata": {},
   "outputs": [
    {
     "name": "stdout",
     "output_type": "stream",
     "text": [
      "Jon\n"
     ]
    }
   ],
   "source": [
    "# Изменить регистр первой буквы\n",
    "print (string.capitalize())"
   ]
  },
  {
   "cell_type": "code",
   "execution_count": 37,
   "id": "2a98cfd1",
   "metadata": {},
   "outputs": [
    {
     "name": "stdout",
     "output_type": "stream",
     "text": [
      "{'O', 'e', 'o', 's', 'm'} 5\n"
     ]
    }
   ],
   "source": [
    "string = \"moOse\"\n",
    "lens = set(string)\n",
    "print(set(string), len(lens) )"
   ]
  },
  {
   "cell_type": "code",
   "execution_count": 68,
   "id": "30705341",
   "metadata": {},
   "outputs": [
    {
     "name": "stdout",
     "output_type": "stream",
     "text": [
      "['4', '5', '3', '8', '5', '5', '9', '3', '1', '0', '7', '8', '4', '3', '5', '6', '8']\n",
      "0\n",
      "01\n",
      "010\n",
      "0101\n",
      "01011\n",
      "010111\n",
      "0101111\n",
      "01011110\n",
      "010111100\n",
      "0101111000\n",
      "01011110001\n",
      "010111100011\n",
      "0101111000110\n",
      "01011110001100\n",
      "010111100011001\n",
      "0101111000110011\n",
      "01011110001100111\n"
     ]
    }
   ],
   "source": [
    "# Строку из цифр делим и собираем новую строку со значениями 0 и 1 согластно условию if\n",
    "str_nomber = '45385593107843568'\n",
    "split_nom = list(str_nomber)\n",
    "print(split_nom)\n",
    "result_1=''\n",
    "for i in split_nom:\n",
    "    if int(i) < 5:\n",
    "        result_1+=\"0\"\n",
    "        print (result_1)\n",
    "    else:\n",
    "        result_1+=\"1\"\n",
    "        print (result_1)\n",
    "        "
   ]
  },
  {
   "cell_type": "code",
   "execution_count": 78,
   "id": "067d0a51",
   "metadata": {},
   "outputs": [
    {
     "name": "stdout",
     "output_type": "stream",
     "text": [
      "['9', '7', '6', '5', '7']\n",
      "97765\n"
     ]
    }
   ],
   "source": [
    "# Есть число мы его преобразуем в стринг затем все элементы в список, и сортируем по убыванию\n",
    "num = 97657\n",
    "num_to_str=str(num)\n",
    "split_num = list(num_to_str)\n",
    "print (split_num)\n",
    "split_num.sort(reverse=True)\n",
    "res=int(''.join(split_num))\n",
    "print(res)"
   ]
  },
  {
   "cell_type": "code",
   "execution_count": 80,
   "id": "e5354a85",
   "metadata": {},
   "outputs": [
    {
     "name": "stdout",
     "output_type": "stream",
     "text": [
      "97765\n"
     ]
    }
   ],
   "source": [
    "# Верхний в одну строку\n",
    "print(int(\"\".join(sorted(str(num), reverse=True))))"
   ]
  },
  {
   "cell_type": "code",
   "execution_count": 92,
   "id": "a9ce4dc3",
   "metadata": {},
   "outputs": [
    {
     "name": "stdout",
     "output_type": "stream",
     "text": [
      "True\n"
     ]
    }
   ],
   "source": [
    "# Проверка пин кода только 4-х и 6-ти значный, не содержит букв и не отрицателен\n",
    "def validate_pin(pin):\n",
    "    if len(pin) not in [4, 6]:\n",
    "        return False\n",
    "    \n",
    "    for char in pin:\n",
    "        if char.isdigit() and (0 <= int(char) <= 9):\n",
    "            continue\n",
    "        else:\n",
    "            return False\n",
    "            \n",
    "    return True"
   ]
  },
  {
   "cell_type": "code",
   "execution_count": null,
   "id": "17f0f19c",
   "metadata": {},
   "outputs": [],
   "source": [
    "# Верхний в одну строку\n",
    "def validate_pin(pin):\n",
    "    return len(pin) in (4, 6) and pin.isdigit()"
   ]
  },
  {
   "cell_type": "code",
   "execution_count": 8,
   "id": "79480e05",
   "metadata": {},
   "outputs": [
    {
     "data": {
      "text/plain": [
       "'found the needle at position 26'"
      ]
     },
     "execution_count": 8,
     "metadata": {},
     "output_type": "execute_result"
    }
   ],
   "source": [
    "#Вернуть индекс элемента в списке в виде текста\n",
    "haystack = [1,2,3,4,5,6,7,8,83,4,5,6,67,5,5,3,3,4,2,34,234,23,4,234,324,324,'needle',1,2,3,4,5,5,6,5,4,32,3,45,54]\n",
    "res = str(haystack.index('needle'))\n",
    "res_text= \"found the needle at position \"\n",
    "res_out=res_text+res\n",
    "res_out"
   ]
  },
  {
   "cell_type": "code",
   "execution_count": null,
   "id": "bd4008b7",
   "metadata": {},
   "outputs": [],
   "source": [
    "# Верхний в одну строку\n",
    "def find_needle(haystack):\n",
    "    return f'found the needle at position {haystack.index(\"needle\")}'"
   ]
  },
  {
   "cell_type": "code",
   "execution_count": 103,
   "id": "e20d8e4b",
   "metadata": {},
   "outputs": [
    {
     "name": "stdout",
     "output_type": "stream",
     "text": [
      "Ths wbst s fr lsrs LL!\n"
     ]
    }
   ],
   "source": [
    "#  Убираем все гласные буквы из строки и возвращаем рещультат\n",
    "text_coments = \"This website is for losers LOL!\"\n",
    "\n",
    "def vowel_not (text):\n",
    "    vowel=\"aeiouyAEIOUY\"\n",
    "    result_text = \"\"\n",
    "    for char in text:\n",
    "        if char in vowel:\n",
    "            result_text+=\"\"\n",
    "        else:\n",
    "            result_text+=char\n",
    "    return result_text\n",
    "        \n",
    "print (vowel_not(text_coments))"
   ]
  },
  {
   "cell_type": "code",
   "execution_count": 104,
   "id": "a74e7835",
   "metadata": {},
   "outputs": [
    {
     "name": "stdout",
     "output_type": "stream",
     "text": [
      "Ths wbst s fr lsrs LL!\n"
     ]
    }
   ],
   "source": [
    "# Верхний в одну строку\n",
    "def disemvowel(string):\n",
    "    return \"\".join(c for c in string if c.lower() not in \"aeiou\")\n",
    "print(disemvowel(text_coments))"
   ]
  },
  {
   "cell_type": "code",
   "execution_count": 128,
   "id": "8bb3a38f",
   "metadata": {},
   "outputs": [
    {
     "name": "stdout",
     "output_type": "stream",
     "text": [
      "42 -9\n"
     ]
    }
   ],
   "source": [
    "# СТРОКА с пробелами, нужно взять максимальное и минимальное значение и вывести строкой с пробелом\n",
    "numbers = \"8 3 -5 42 -1 0 0 -9 4 7 4 -4\"\n",
    "def high_and_low(numbers):\n",
    "    lern_numbers =list(map(int, numbers.split()))\n",
    "    max_num = max(lern_numbers)\n",
    "    min_num = min(lern_numbers)\n",
    "    result_num_str = str(str(max_num)+\" \"+str(min_num))\n",
    "    return result_num_str\n",
    "print (high_and_low(numbers))"
   ]
  },
  {
   "cell_type": "code",
   "execution_count": 127,
   "id": "ec7bdfaf",
   "metadata": {},
   "outputs": [
    {
     "name": "stdout",
     "output_type": "stream",
     "text": [
      "42 -9\n"
     ]
    }
   ],
   "source": [
    "# Верхний в одну строку\n",
    "def high_and_low(numbers):\n",
    "  numbers = [int(c) for c in numbers.split(' ')]\n",
    "  return f\"{max(numbers)} {min(numbers)}\"\n",
    "print (high_and_low(numbers))"
   ]
  },
  {
   "cell_type": "code",
   "execution_count": 139,
   "id": "e1db6331",
   "metadata": {},
   "outputs": [
    {
     "name": "stdout",
     "output_type": "stream",
     "text": [
      "811181\n"
     ]
    }
   ],
   "source": [
    "# Есть число требуется возвести в квадрат чаждый его элемент и собрать результат в строку - но вывести ответ как число\n",
    "num=9119\n",
    "def square_digits(num):\n",
    "    to_str = str(n um)\n",
    "    list_numbers = list(to_str)\n",
    "    result=\"\"\n",
    "    for i in list_numbers:\n",
    "        res_int=int(i)**2\n",
    "        result+=str(res_int)\n",
    "    return int(result)\n",
    "print (square_digits(num))\n",
    "    "
   ]
  },
  {
   "cell_type": "code",
   "execution_count": 140,
   "id": "ee27cc5c",
   "metadata": {},
   "outputs": [
    {
     "name": "stdout",
     "output_type": "stream",
     "text": [
      "811181\n"
     ]
    }
   ],
   "source": [
    "# Верхний в одну строку \n",
    "def square_digits1(num):\n",
    "    return int(''.join(str(int(d)**2) for d in str(num)))\n",
    "print (square_digits1(num))"
   ]
  },
  {
   "cell_type": "code",
   "execution_count": 141,
   "id": "410a3a2a",
   "metadata": {},
   "outputs": [
    {
     "name": "stdout",
     "output_type": "stream",
     "text": [
      "5\n"
     ]
    }
   ],
   "source": [
    "# Подсчитываем количество прописных гласных в \n",
    "text = 'abrakadabra'\n",
    "def get_count(sentence):\n",
    "    vowel=\"aeiouy\"\n",
    "    result_vowel=0\n",
    "    for char in sentence:\n",
    "        if char in vowel:\n",
    "            result_vowel+=1\n",
    "    return result_vowel\n",
    "print (get_count(text))"
   ]
  },
  {
   "cell_type": "code",
   "execution_count": 142,
   "id": "36f133b4",
   "metadata": {},
   "outputs": [
    {
     "name": "stdout",
     "output_type": "stream",
     "text": [
      "5\n"
     ]
    }
   ],
   "source": [
    "# Верхний в одну строку\n",
    "def getCount(s):\n",
    "    return sum(c in 'aeiou' for c in s)\n",
    "print (getCount(text))"
   ]
  },
  {
   "cell_type": "code",
   "execution_count": 8,
   "id": "03725a1d",
   "metadata": {},
   "outputs": [
    {
     "name": "stdout",
     "output_type": "stream",
     "text": [
      "2\n"
     ]
    }
   ],
   "source": [
    "# Возвращаем число с противоположенным знаком\n",
    "numbers_opp=-2\n",
    "def opposite(number):\n",
    "    if number>0:\n",
    "        return -abs(number)\n",
    "    else:\n",
    "        return abs(number)\n",
    "print(opposite(numbers_opp))"
   ]
  },
  {
   "cell_type": "code",
   "execution_count": null,
   "id": "ec5f5853",
   "metadata": {},
   "outputs": [],
   "source": [
    "# Верхний в одну строку\n",
    "def opposite(number):\n",
    "    return number * -1"
   ]
  },
  {
   "cell_type": "code",
   "execution_count": 29,
   "id": "faa05a4e",
   "metadata": {},
   "outputs": [
    {
     "name": "stdout",
     "output_type": "stream",
     "text": [
      "T-Ee-Sss-Tttt\n"
     ]
    }
   ],
   "source": [
    "# mumbling - бормотание. Строку перевести в вид \"С-Тт-Ррр-Оооо-Ккккк-Ааааааа\"\n",
    "mumbling =\"Test\"\n",
    "def accum(s):\n",
    "    count=0\n",
    "    char_list=[]\n",
    "    result_mum=\"\"\n",
    "    for char in s:\n",
    "        count+=1\n",
    "        char*=count\n",
    "        char_list.append(char.capitalize())\n",
    "        result_mum=\"-\".join(char_list)\n",
    "    return result_mum\n",
    "print(accum(mumbling))"
   ]
  },
  {
   "cell_type": "code",
   "execution_count": 30,
   "id": "09d68542",
   "metadata": {},
   "outputs": [
    {
     "name": "stdout",
     "output_type": "stream",
     "text": [
      "Normal\n"
     ]
    }
   ],
   "source": [
    "#Напишите функцию bmi, которая вычисляет индекс массы тела (bmi = вес / рост2).\n",
    "#если ИМТ <= 18,5, возвращается \"Underweight\"\n",
    "#если ИМТ <= 25,0, вернуть значение \"Normal\"\n",
    "#если ИМТ <= 30,0, возвращается \"Overweight\"\n",
    "#если ИМТ> 30, возвращается \"Obese\"\n",
    "weight, height = 87, 1.87\n",
    "def bmi(weight, height):\n",
    "    bmi=weight/height**2\n",
    "    if bmi<=18.5:\n",
    "        return \"Underweight\"\n",
    "    if bmi<=25.0:\n",
    "        return \"Normal\"\n",
    "    if bmi<=30:\n",
    "        return \"Overweight\"\n",
    "    if bmi>25.0:\n",
    "        return \"Obese\"\n",
    "print (bmi(weight, height))"
   ]
  },
  {
   "cell_type": "code",
   "execution_count": 31,
   "id": "9bf7a7e2",
   "metadata": {},
   "outputs": [
    {
     "name": "stdout",
     "output_type": "stream",
     "text": [
      "Obese\n"
     ]
    }
   ],
   "source": [
    "# Верхний в одну строку\n",
    "weight, height = 105, 1.87\n",
    "def bmi(weight, height):\n",
    "    b = weight / height ** 2\n",
    "    return ['Underweight', 'Normal', 'Overweight', 'Obese'][(b > 30) + (b > 25) + (b > 18.5)]\n",
    "print (bmi(weight, height))"
   ]
  },
  {
   "cell_type": "code",
   "execution_count": 36,
   "id": "0675d147",
   "metadata": {},
   "outputs": [
    {
     "name": "stdout",
     "output_type": "stream",
     "text": [
      "3\n"
     ]
    }
   ],
   "source": [
    "# Есть строка нужно вернуть длинну самого короткого слова\n",
    "s_long= \"bitcoin take over the world maybe who knows perhaps\"\n",
    "def find_short(s):\n",
    "    split_s=s.split()\n",
    "    result_long=min(split_s, key=len)\n",
    "    return len(result_long)\n",
    "print (find_short(s_long))"
   ]
  },
  {
   "cell_type": "code",
   "execution_count": null,
   "id": "23d891a2",
   "metadata": {},
   "outputs": [],
   "source": [
    "# Верхний в одну строку\n",
    "def find_short(s):\n",
    "    return min(len(x) for x in s.split())"
   ]
  },
  {
   "cell_type": "code",
   "execution_count": 42,
   "id": "5e091169",
   "metadata": {},
   "outputs": [
    {
     "name": "stdout",
     "output_type": "stream",
     "text": [
      "odd\n"
     ]
    }
   ],
   "source": [
    "# Определить является ли суммы чисел массива четной или не четной\n",
    "arr_add = [0, 5, 2]\n",
    "def odd_or_even(arr):\n",
    "    if sum(arr) % 2 != 0:\n",
    "        return (\"odd\")\n",
    "    elif sum(arr) % 2 == 0:\n",
    "        return (\"even\")\n",
    "print (odd_or_even(arr_add))"
   ]
  },
  {
   "cell_type": "code",
   "execution_count": 46,
   "id": "9ca42030",
   "metadata": {},
   "outputs": [
    {
     "name": "stdout",
     "output_type": "stream",
     "text": [
      "odd\n"
     ]
    }
   ],
   "source": [
    "# Верхний в одну строку\n",
    "def odd_or_even1(arr):\n",
    "    return 'even' if sum(arr) % 2 == 0 else 'odd'\n",
    "print (odd_or_even1(arr_add))"
   ]
  },
  {
   "cell_type": "code",
   "execution_count": 79,
   "id": "99cebaac",
   "metadata": {},
   "outputs": [
    {
     "name": "stdout",
     "output_type": "stream",
     "text": [
      "20 8 5 19 21 14 19 5 20 19 5 20 19 1 20 20 23 5 12 22 5 15 3 12 15 3 11\n"
     ]
    }
   ],
   "source": [
    "# Заменить каждую букву в строке на позицию в алфавите и вывести в строке\n",
    "string_text = \"The sunset sets at twelve o' clock.\"\n",
    "def alphabet_position(text):\n",
    "    \n",
    "    text = text.lower()\n",
    "    alphabet = {}\n",
    "    new_text = \"\"\n",
    "    \n",
    "    for i in range(26):\n",
    "        key = chr(ord('a') + i)\n",
    "        value = i + 1\n",
    "        alphabet[key] = value\n",
    "\n",
    "    for leter in text:\n",
    "        if leter in alphabet:\n",
    "            new_text += str(alphabet[leter])+' '\n",
    "        else: \n",
    "            new_text+=\"\"\n",
    "    return new_text[:-1]\n",
    "print (alphabet_position(string_text))\n"
   ]
  },
  {
   "cell_type": "code",
   "execution_count": 54,
   "id": "328adaec",
   "metadata": {},
   "outputs": [
    {
     "name": "stdout",
     "output_type": "stream",
     "text": [
      "{'a': 1, 'b': 2, 'c': 3, 'd': 4, 'e': 5, 'f': 6, 'g': 7, 'h': 8, 'i': 9, 'j': 10, 'k': 11, 'l': 12, 'm': 13, 'n': 14, 'o': 15, 'p': 16, 'q': 17, 'r': 18, 's': 19, 't': 20, 'u': 21, 'v': 22, 'w': 23, 'x': 24, 'y': 25, 'z': 26}\n"
     ]
    }
   ],
   "source": [
    "# Инициализация словаря\n",
    "alphabet = {}\n",
    "\n",
    "# Создание КЛЮЧА для КАЖДОГО СИМВОЛА АЛФАВИТА\n",
    "for i in range(26):\n",
    "    key = chr(ord('a') + i) #функция, которая преобразует код символа в символ. ord(‘a’) \n",
    "    value = i + 1          # возвращает код символа ‘a’, который равен 97. \n",
    "    alphabet[key] = value  # Затем к этому числу прибавляется i, чтобы получить код нужной буквы. \n",
    "                           # После этого функция chr() преобразует полученный код обратно в символ.\n",
    "print (alphabet)"
   ]
  },
  {
   "cell_type": "code",
   "execution_count": 84,
   "id": "f3733969",
   "metadata": {},
   "outputs": [
    {
     "name": "stdout",
     "output_type": "stream",
     "text": [
      "[2, 4, 6, 8, 10]\n"
     ]
    }
   ],
   "source": [
    "# Есть два числа нужна массив , первое значение это \"a\" длинна массива равна \"n\" шаг \"a\"\n",
    "a, b = 2, 5\n",
    "list_num = []\n",
    "def count_by(x, n):\n",
    "    for i in range (x, x*n+1, x):\n",
    "        list_num.append(i)\n",
    "    return list_num\n",
    "print (count_by(a,b))"
   ]
  },
  {
   "cell_type": "code",
   "execution_count": 83,
   "id": "f10797e7",
   "metadata": {},
   "outputs": [
    {
     "name": "stdout",
     "output_type": "stream",
     "text": [
      "[2, 4, 6, 8, 10]\n"
     ]
    }
   ],
   "source": [
    "# Верхний в одну строку\n",
    "def count_by1(x, n):\n",
    "    return list(range(x, n * x + 1, x))\n",
    "print (count_by1(a,b))"
   ]
  },
  {
   "cell_type": "code",
   "execution_count": 6,
   "id": "66036f80",
   "metadata": {},
   "outputs": [
    {
     "name": "stdout",
     "output_type": "stream",
     "text": [
      "This is a Test\n"
     ]
    }
   ],
   "source": [
    "# Отсортировать заданную строку. Каждое слово в строке будет содержать одно число. Это число - позиция, которую слово должно занимать в результате.\n",
    "# А так же убираем цифры и выводим строкой\n",
    "import re\n",
    "sentence = \"is2 Thi1s T4est 3a\"\n",
    "def order(sentence):\n",
    "    words=sentence.split()\n",
    "    result=[]\n",
    "    myre = re.compile(r'\\d+')\n",
    "    words.sort(key=lambda x: myre.findall(x))\n",
    "    for char in words:\n",
    "        result.append(''.join([i for i in char if not i.isdigit()])) \n",
    "    return \" \".join(result)\n",
    "print (order(sentence))"
   ]
  },
  {
   "cell_type": "code",
   "execution_count": 8,
   "id": "74ed4564",
   "metadata": {},
   "outputs": [
    {
     "name": "stdout",
     "output_type": "stream",
     "text": [
      "B\n"
     ]
    }
   ],
   "source": [
    "# Вычисляем средние значение в списке и выводим соглаасно условиям\n",
    "s1, s2, s3 = 70, 70 ,100\n",
    "def get_grade(s1, s2, s3):\n",
    "    list_num = [s1, s2, s3]\n",
    "    f=sum(list_num)/len(list_num)\n",
    "    if 90 <= f <= 100: return \"A\"\n",
    "    elif 80 <= f < 90: return \"B\"\n",
    "    elif 70 <= f < 80: return \"C\"\n",
    "    elif 70 <= f < 60: return \"D\"\n",
    "    elif 0 <= f < 60: return \"E\"\n",
    "\n",
    "print (get_grade(s1, s2, s3))    "
   ]
  },
  {
   "cell_type": "code",
   "execution_count": 10,
   "id": "acb074e9",
   "metadata": {},
   "outputs": [
    {
     "name": "stdout",
     "output_type": "stream",
     "text": [
      "Collecting pandas\n",
      "  Obtaining dependency information for pandas from https://files.pythonhosted.org/packages/c5/c5/c93e1b9e149208e0bf4a8daf6b6381601f6168a4667e8f31734c603231ab/pandas-2.1.2-cp310-cp310-macosx_11_0_arm64.whl.metadata\n",
      "  Downloading pandas-2.1.2-cp310-cp310-macosx_11_0_arm64.whl.metadata (18 kB)\n",
      "Requirement already satisfied: numpy<2,>=1.22.4 in /Users/igorsm/anaconda3/envs/TensorFlow/lib/python3.10/site-packages (from pandas) (1.23.5)\n",
      "Requirement already satisfied: python-dateutil>=2.8.2 in /Users/igorsm/anaconda3/envs/TensorFlow/lib/python3.10/site-packages (from pandas) (2.8.2)\n",
      "Collecting pytz>=2020.1 (from pandas)\n",
      "  Obtaining dependency information for pytz>=2020.1 from https://files.pythonhosted.org/packages/32/4d/aaf7eff5deb402fd9a24a1449a8119f00d74ae9c2efa79f8ef9994261fc2/pytz-2023.3.post1-py2.py3-none-any.whl.metadata\n",
      "  Downloading pytz-2023.3.post1-py2.py3-none-any.whl.metadata (22 kB)\n",
      "Collecting tzdata>=2022.1 (from pandas)\n",
      "  Downloading tzdata-2023.3-py2.py3-none-any.whl (341 kB)\n",
      "\u001b[2K     \u001b[90m━━━━━━━━━━━━━━━━━━━━━━━━━━━━━━━━━━━━━━━\u001b[0m \u001b[32m341.8/341.8 kB\u001b[0m \u001b[31m3.8 MB/s\u001b[0m eta \u001b[36m0:00:00\u001b[0ma \u001b[36m0:00:01\u001b[0m\n",
      "\u001b[?25hRequirement already satisfied: six>=1.5 in /Users/igorsm/anaconda3/envs/TensorFlow/lib/python3.10/site-packages (from python-dateutil>=2.8.2->pandas) (1.16.0)\n",
      "Downloading pandas-2.1.2-cp310-cp310-macosx_11_0_arm64.whl (10.9 MB)\n",
      "\u001b[2K   \u001b[90m━━━━━━━━━━━━━━━━━━━━━━━━━━━━━━━━━━━━━━━━\u001b[0m \u001b[32m10.9/10.9 MB\u001b[0m \u001b[31m5.2 MB/s\u001b[0m eta \u001b[36m0:00:00\u001b[0m00:01\u001b[0m00:01\u001b[0m\n",
      "\u001b[?25hDownloading pytz-2023.3.post1-py2.py3-none-any.whl (502 kB)\n",
      "\u001b[2K   \u001b[90m━━━━━━━━━━━━━━━━━━━━━━━━━━━━━━━━━━━━━━━━\u001b[0m \u001b[32m502.5/502.5 kB\u001b[0m \u001b[31m6.5 MB/s\u001b[0m eta \u001b[36m0:00:00\u001b[0m00:01\u001b[0m00:01\u001b[0m\n",
      "\u001b[?25hInstalling collected packages: pytz, tzdata, pandas\n",
      "Successfully installed pandas-2.1.2 pytz-2023.3.post1 tzdata-2023.3\n",
      "Note: you may need to restart the kernel to use updated packages.\n"
     ]
    }
   ],
   "source": [
    "pip install pandas\n"
   ]
  },
  {
   "cell_type": "code",
   "execution_count": 2,
   "id": "49f03491",
   "metadata": {
    "scrolled": true
   },
   "outputs": [
    {
     "name": "stdout",
     "output_type": "stream",
     "text": [
      "[189 170 189 163 183 171 185 168 173 183 173 173 175 178 183 193 178 173\n",
      " 174 183 183 168 170 178 182 180 183 178 182 188 175 179 183 193 182 183\n",
      " 177 185 188 188 182 185 191 182]\n",
      "Средний рост:  180.04545454545453\n",
      "Стандартное отклонение:  6.983599441335736\n",
      "Минимальный рост:  163\n",
      "Максимальный рост:  193\n"
     ]
    }
   ],
   "source": [
    "# Ч1 Средний рост президдентов сша\n",
    "import pandas as pd\n",
    "import numpy as np\n",
    "data=pd.read_csv(\"data/president_heights.csv\")\n",
    "heights=np.array(data['height(cm)'])\n",
    "print(heights)\n",
    "print(\"Средний рост: \" , heights.mean())\n",
    "print (\"Стандартное отклонение: \", heights.std())\n",
    "print (\"Минимальный рост: \", heights.min())\n",
    "print (\"Максимальный рост: \", heights.max())"
   ]
  },
  {
   "cell_type": "code",
   "execution_count": 5,
   "id": "5ed07f54",
   "metadata": {},
   "outputs": [
    {
     "data": {
      "text/plain": [
       "Text(0, 0.5, 'Номер президента')"
      ]
     },
     "execution_count": 5,
     "metadata": {},
     "output_type": "execute_result"
    },
    {
     "data": {
      "image/png": "[encoded data removed]",
      "text/plain": [
       "<Figure size 640x480 with 1 Axes>"
      ]
     },
     "metadata": {},
     "output_type": "display_data"
    }
   ],
   "source": [
    "# Ч2 Выводим все в графике Matplotlib \n",
    "%matplotlib inline \n",
    "# указывает, что нужно отображать графики внутри текущего консоли Python,\n",
    "# а не сохранять их в файл или выводить на экран в отдельном окне\n",
    "import matplotlib.pyplot as plt\n",
    "# import seaborn; seaborn.set() # Задает стиль графика\n",
    "\n",
    "plt.hist(heights)\n",
    "plt.title (\"Распределение ростов президентов США\")\n",
    "\n",
    "plt.xlabel(\"Вышина (см)\")\n",
    "plt.ylabel (\"Номер президента\")\n"
   ]
  },
  {
   "cell_type": "code",
   "execution_count": 36,
   "id": "76820596",
   "metadata": {},
   "outputs": [
    {
     "name": "stdout",
     "output_type": "stream",
     "text": [
      "(array([7]), array([0., 6.]))\n",
      "Counter({1: 3, 0: 1, 3: 1, 2: 1, 6: 1})\n"
     ]
    }
   ],
   "source": [
    "# Гистограмма numpy\n",
    "import numpy as np\n",
    "from collections import Counter\n",
    "values = [1, 1, 0, 1, 3, 2, 6]\n",
    "bin_width = 1\n",
    "count_num=Counter(values) # подсчет повторяющихся элементов, записывает как коллекцию\n",
    "\n",
    "def histogram(values, bin_width):  \n",
    "    return np.histogram(values, bin_width)\n",
    "\n",
    "print(histogram(values, bin_width))\n",
    "print(count_num)"
   ]
  },
  {
   "cell_type": "code",
   "execution_count": 20,
   "id": "e0f19293",
   "metadata": {},
   "outputs": [
    {
     "name": "stdout",
     "output_type": "stream",
     "text": [
      "Jacob, Alex and 2 others like this\n"
     ]
    }
   ],
   "source": [
    "# Считает количество подписчиков и выводит заданным текстом\n",
    "#(likes([]), 'no one likes this')\n",
    "#likes(['Peter']), 'Peter likes this')\n",
    "#(likes(['Jacob', 'Alex']), 'Jacob and Alex like this')\n",
    "#likes(['Max', 'John', 'Mark']), 'Max, John and Mark like this')\n",
    "#(likes(['Alex', 'Jacob', 'Mark', 'Max']), 'Alex, Jacob and 2 others like this')\n",
    "test_name=['Jacob', 'Alex', 'Bil','bob']\n",
    "def likes(names):\n",
    "\n",
    "    if len(names) == 0:\n",
    "        return \"no one likes this\"\n",
    "    elif len(names) == 1:\n",
    "        return names[0]+ \" likes this\"\n",
    "    elif len(names) == 2:\n",
    "        return names[0]+ \" and \" + names[1]+ \" like this\"\n",
    "    elif len(names) == 3:\n",
    "        return names[0]+ \", \" + names[1]+\" and \"+names[2]+\" like this\"\n",
    "    else:\n",
    "        return names[0]+ \", \" + names[1]+\" and \" + str(len(names)-2) + \" others like this\"\n",
    "print(likes(test_name))"
   ]
  },
  {
   "cell_type": "code",
   "execution_count": 49,
   "id": "aeb51f79",
   "metadata": {},
   "outputs": [
    {
     "name": "stdout",
     "output_type": "stream",
     "text": [
      "[2, 3, 4, 5]\n"
     ]
    }
   ],
   "source": [
    "# Найти нименьший элемент в массиве, удалить его вывести. Нельзя изменять ориганальный массив\n",
    "import numpy as np\n",
    "import copy\n",
    "numbers =[1, 2, 3, 4, 5]\n",
    "def remove_smallest(numbers):\n",
    "    num_arr=copy.copy(numbers) # создаем копию списка что бы оставить оригинал без изменений\n",
    "    if num_arr == []:\n",
    "        return []\n",
    "    else:\n",
    "        array=np.array(num_arr)\n",
    "        min_in=array.argmin()\n",
    "        num_arr.pop(min_in)\n",
    "        return num_arr\n",
    "print (remove_smallest(numbers))"
   ]
  },
  {
   "cell_type": "code",
   "execution_count": 51,
   "id": "435351d8",
   "metadata": {},
   "outputs": [
    {
     "name": "stdout",
     "output_type": "stream",
     "text": [
      "aehrsty\n"
     ]
    }
   ],
   "source": [
    "# Есть 2 сроки, нужно вывести в одну все буквы этих строк не повторяясь\n",
    "a1, a2 =\"aretheyhere\", \"yestheyarehere\"\n",
    "def longest(a1, a2):\n",
    "    a=set(a1)\n",
    "    b=set(a2)\n",
    "    char=sorted(a.union(b))\n",
    "    result = \"\".join(char)\n",
    "    return result\n",
    "print (longest(a1, a2))"
   ]
  },
  {
   "cell_type": "code",
   "execution_count": 52,
   "id": "b183ed80",
   "metadata": {},
   "outputs": [
    {
     "name": "stdout",
     "output_type": "stream",
     "text": [
      "Counter({'a': 2, 'b': 1})\n"
     ]
    }
   ],
   "source": [
    "# подсчете всех встречающихся символов в строке. Если у вас есть строка типа aba, \n",
    "# то результат должен быть {'a': 2, 'b': 1}\n",
    "s= \"aba\"\n",
    "from collections import Counter\n",
    "def count(s):\n",
    "    result=Counter(s)\n",
    "    return result\n",
    "print(count(s))"
   ]
  },
  {
   "cell_type": "code",
   "execution_count": 55,
   "id": "468e3d92",
   "metadata": {},
   "outputs": [
    {
     "name": "stdout",
     "output_type": "stream",
     "text": [
      "3/56\n"
     ]
    }
   ],
   "source": [
    "# Нужно вывести в заданном виде количество букв строки, не входящие в условие / на длинну строки\n",
    "s=\"aaaaaaaaaaaaaaaabbbbbbbbbbbbbbbbbbmmmmmmmmmmmmmmmmmmmxyz\"\n",
    "def printer_error(s):\n",
    "    exception=\"nopqrstuvwxyz\" # исключения\n",
    "    err=0\n",
    "    for char in s:\n",
    "        if char in exception:\n",
    "            err+=1\n",
    "    return str(err)+'/'+str(len(s))\n",
    "print(printer_error(s))"
   ]
  },
  {
   "cell_type": "code",
   "execution_count": 57,
   "id": "4d34cff3",
   "metadata": {},
   "outputs": [
    {
     "name": "stdout",
     "output_type": "stream",
     "text": [
      "Hello World\n"
     ]
    }
   ],
   "source": [
    "# требуется удалить заданный элемент в строке\n",
    "test_str=\"Hello World!!\"\n",
    "def remove_exclamation_marks(s):\n",
    "    element=\"!\"\n",
    "    return s.replace(element,\"\")\n",
    "print(remove_exclamation_marks(test_str))"
   ]
  },
  {
   "cell_type": "code",
   "execution_count": 66,
   "id": "129a5593",
   "metadata": {},
   "outputs": [
    {
     "name": "stdout",
     "output_type": "stream",
     "text": [
      "[[0.37454012 0.95071431]\n",
      " [0.73199394 0.59865848]\n",
      " [0.15601864 0.15599452]\n",
      " [0.05808361 0.86617615]\n",
      " [0.60111501 0.70807258]\n",
      " [0.02058449 0.96990985]\n",
      " [0.83244264 0.21233911]\n",
      " [0.18182497 0.18340451]\n",
      " [0.30424224 0.52475643]\n",
      " [0.43194502 0.29122914]]\n"
     ]
    },
    {
     "data": {
      "text/plain": [
       "(10, 10)"
      ]
     },
     "execution_count": 66,
     "metadata": {},
     "output_type": "execute_result"
    },
    {
     "data": {
      "image/png": "[encoded data removed]",
      "text/plain": [
       "<Figure size 640x480 with 1 Axes>"
      ]
     },
     "metadata": {},
     "output_type": "display_data"
    }
   ],
   "source": [
    "# K ближайшие соседи\n",
    "rand=np.random.RandomState(42)\n",
    "x=rand.rand(10,2)\n",
    "print(x)\n",
    "\n",
    "%matplotlib inline\n",
    "import matplotlib.pyplot as plt\n",
    "plt.scatter(x[:,0],x[:,1], s=100);\n",
    "# Квадрат расстояния между точками равен сумме квадрату покаждой координате координат, между ними\n",
    "dist_sq=np.sum((x[:,np.newaxis,:]-x[np.newaxis,:,:])**2, axis=-1)\n",
    "dist_sq.shape"
   ]
  },
  {
   "cell_type": "code",
   "execution_count": 68,
   "id": "c010875d",
   "metadata": {},
   "outputs": [
    {
     "data": {
      "text/plain": [
       "array([0., 0., 0., 0., 0., 0., 0., 0., 0., 0.])"
      ]
     },
     "execution_count": 68,
     "metadata": {},
     "output_type": "execute_result"
    }
   ],
   "source": [
    "# Ч2 К соседей. для контроля проверим что диагональ матрицы состоит из нулей.\n",
    "# (т е набор расстояний между каждой точкой и ей самой)\n",
    "dist_sq.diagonal()\n"
   ]
  },
  {
   "cell_type": "code",
   "execution_count": 70,
   "id": "c21d4b9f",
   "metadata": {},
   "outputs": [
    {
     "name": "stdout",
     "output_type": "stream",
     "text": [
      "[[3 0 4 5 8 9 1 7 2 6]\n",
      " [1 4 6 9 3 5 2 7 8 0]\n",
      " [2 7 9 8 6 4 5 1 3 0]\n",
      " [3 5 0 8 4 1 6 7 2 9]\n",
      " [1 4 0 8 9 6 2 7 5 3]\n",
      " [5 3 0 8 4 1 6 7 2 9]\n",
      " [1 9 6 4 3 5 2 7 8 0]\n",
      " [7 2 9 8 6 4 5 1 3 0]\n",
      " [8 9 4 7 2 3 0 1 5 6]\n",
      " [8 7 9 2 1 6 4 5 3 0]]\n"
     ]
    }
   ],
   "source": [
    "# Сортируем, сначала идут к+1 миинимальных квадратов расстояний, а большие заполняют оставшиеся позиции массива\n",
    "k=2\n",
    "nearest_partition=np.argpartition(dist_sq, k + 1, axis=1)\n",
    "print(nearest_partition)"
   ]
  },
  {
   "cell_type": "code",
   "execution_count": 71,
   "id": "2260a408",
   "metadata": {},
   "outputs": [
    {
     "data": {
      "image/png": "[encoded data removed]",
      "text/plain": [
       "<Figure size 640x480 with 1 Axes>"
      ]
     },
     "metadata": {},
     "output_type": "display_data"
    }
   ],
   "source": [
    "# Рсивуем линии свзяей ближайших точек\n",
    "plt.scatter(x[:,0], x[:,1], s=100)\n",
    "k=2 \n",
    "for i in range (x.shape[0]):\n",
    "    for j in nearest_partition[i, :k+1]:\n",
    "        plt.plot(*zip(x[j],x[i]), color =\"black\")"
   ]
  },
  {
   "cell_type": "code",
   "execution_count": 17,
   "id": "11505c5a",
   "metadata": {},
   "outputs": [
    {
     "name": "stdout",
     "output_type": "stream",
     "text": [
      "[1, 5]\n"
     ]
    }
   ],
   "source": [
    "# Вернуть минимально и максимальное значение из массива\n",
    "list_num = [1,2,3,5]\n",
    "def min_max(lst_num):\n",
    "     return [min(lst_num), max(lst_num)]\n",
    "print (min_max(list_num))"
   ]
  },
  {
   "cell_type": "code",
   "execution_count": null,
   "id": "fb582d3a",
   "metadata": {},
   "outputs": [],
   "source": [
    "# В этом простом Ката ваша задача - создать функцию, которая превращает строку в \n",
    "# мексиканскую волну. Вам будет передана строка, и вы должны вернуть эту строку в \n",
    "# виде массива, где заглавная буква обозначает человека, вставшего. \n",
    "people = 'Hello'\n",
    "def wave(people):\n",
    "    # Code here\n",
    "    return\n",
    "print (wave(people))"
   ]
  },
  {
   "cell_type": "markdown",
   "id": "886d91e3",
   "metadata": {},
   "source": [
    "Напишите функцию collinearity(x1, y1, x2, y2), которая возвращает логический тип в зависимости от того, коллинеарны векторы или нет.\n",
    "Примечания\n",
    "Все векторы начинаются из начала координат (x=0, y=0).\n",
    "Будьте осторожны при обработке случаев, когда x1, x2, y1 или y2 равны нулю, чтобы избежать ошибок деления на ноль.\n",
    "Вектор с координатами (0, 0) коллинеарен всем векторам.\n",
    "(0, 1, 6, 0)"
   ]
  },
  {
   "cell_type": "code",
   "execution_count": 9,
   "id": "e85d7fc8",
   "metadata": {},
   "outputs": [
    {
     "name": "stdout",
     "output_type": "stream",
     "text": [
      "True\n"
     ]
    }
   ],
   "source": [
    "def collinearity(x1, y1, x2, y2):\n",
    "    if x1 == 0 and y1 == 0 or x2 == 0 and y2 == 0:\n",
    "        return True\n",
    "    if x1==0 and y2==0:\n",
    "        return False\n",
    "    elif x1*y1-x2*y2==0:\n",
    "        return True\n",
    "    elif y1 == 0 or y2 == 0:\n",
    "        return False\n",
    "    elif x1/y1==x2/y2:\n",
    "        return True\n",
    "    elif (x1 - x2) ** 2 + (y1 - y2) ** 2 == 0:\n",
    "        return True\n",
    "    else:\n",
    "        return False\n",
    "print (collinearity(0, 1, 6, 0))   "
   ]
  },
  {
   "cell_type": "markdown",
   "id": "390cb6d1",
   "metadata": {},
   "source": [
    "Проверяем четное число или нет"
   ]
  },
  {
   "cell_type": "code",
   "execution_count": null,
   "id": "4fda7dd1",
   "metadata": {},
   "outputs": [],
   "source": [
    "def is_even(n): \n",
    "    return n % 2 == 0"
   ]
  },
  {
   "cell_type": "markdown",
   "id": "ac414e07",
   "metadata": {},
   "source": [
    "Возьмите массив и удалите каждый второй элемент из массива. Всегда сохраняйте первый элемент и начинайте удаление со следующего элемента.\n",
    "\n",
    "Пример:\n",
    "[\"Keep\", \"Remove\", \"Keep\", \"Remove\", \"Keep\", ...]-->[\"Keep\", \"Keep\", \"Keep\", ...]\n",
    "\n",
    "Ни один из массивов не будет пустым, так что вам не о чем беспокоиться!"
   ]
  },
  {
   "cell_type": "code",
   "execution_count": null,
   "id": "a198e6cc",
   "metadata": {},
   "outputs": [],
   "source": [
    "def remove_every_other(my_list):\n",
    "    return [x for i, x in enumerate(my_list) if i % 2 == 0]\n"
   ]
  },
  {
   "cell_type": "markdown",
   "id": "ea69ffe6",
   "metadata": {},
   "source": [
    "Напишите функцию для преобразования имени в инициалы. Эта ката состоит из двух слов с одним пробелом между ними.\n",
    "В результате должны быть две заглавные буквы с точкой, разделяющей их.\n",
    "Это должно выглядеть так:\n",
    "Sam Harris=>S.H\n",
    "patrick feeney=>P.F"
   ]
  },
  {
   "cell_type": "code",
   "execution_count": 20,
   "id": "ef8aee3e",
   "metadata": {},
   "outputs": [
    {
     "name": "stdout",
     "output_type": "stream",
     "text": [
      "J.W\n"
     ]
    }
   ],
   "source": [
    "def abbrev_name(name):\n",
    "    first_simbol = name[0].upper()\n",
    "    for x in name.split(\" \")[1:]:\n",
    "        second_simbol=x[0].upper()\n",
    "    return f\"{first_simbol}.{second_simbol}\"\n",
    "\n",
    "\n",
    "print(abbrev_name(\"Jonny Werdigo\"))"
   ]
  },
  {
   "cell_type": "markdown",
   "id": "679ad127",
   "metadata": {},
   "source": [
    "В этом ката речь идет об умножении заданного числа на восемь, если это четное число, и на девять в противном случае."
   ]
  },
  {
   "cell_type": "code",
   "execution_count": null,
   "id": "a326aab6",
   "metadata": {},
   "outputs": [],
   "source": [
    "def simple_multiplication(number):\n",
    "    if number % 2 == 0:\n",
    "        return number * 8\n",
    "    else:\n",
    "        return number * 9"
   ]
  }
 ],
 "metadata": {
  "kernelspec": {
   "display_name": "Python 3 (ipykernel)",
   "language": "python",
   "name": "python3"
  },
  "language_info": {
   "codemirror_mode": {
    "name": "ipython",
    "version": 3
   },
   "file_extension": ".py",
   "mimetype": "text/x-python",
   "name": "python",
   "nbconvert_exporter": "python",
   "pygments_lexer": "ipython3",
   "version": "3.11.5"
  }
 },
 "nbformat": 4,
 "nbformat_minor": 5
}
